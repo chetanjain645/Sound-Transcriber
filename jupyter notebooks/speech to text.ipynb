{
 "cells": [
  {
   "cell_type": "markdown",
   "metadata": {},
   "source": [
    "## Direct convert into text.\n",
    "\n",
    "It will not that effected so what we can do for effectiveness is we can break audio in small pieces and and pass through the function.\n",
    "\n",
    "For more effectiveness : we can use AWS.\n",
    "I have treid it all from all among them aws is best"
   ]
  },
  {
   "cell_type": "code",
   "execution_count": 1,
   "metadata": {},
   "outputs": [
    {
     "name": "stderr",
     "output_type": "stream",
     "text": [
      "C:\\Users\\Chetan Jain\\anaconda3\\lib\\site-packages\\pydub\\utils.py:170: RuntimeWarning: Couldn't find ffmpeg or avconv - defaulting to ffmpeg, but may not work\n",
      "  warn(\"Couldn't find ffmpeg or avconv - defaulting to ffmpeg, but may not work\", RuntimeWarning)\n"
     ]
    }
   ],
   "source": [
    "import speech_recognition as sr\n",
    "from os import path\n",
    "from pydub import AudioSegment\n",
    "import math\n",
    "import glob\n",
    "import wave\n",
    "import contextlib"
   ]
  },
  {
   "cell_type": "code",
   "execution_count": 2,
   "metadata": {},
   "outputs": [
    {
     "name": "stdout",
     "output_type": "stream",
     "text": [
      "Sphinx thinks you said we're here and go of fear that it you didn't know who is the stain on the passages that snails that carry that's the hour winds are we needed here is when terrorists are for him i didn't used to those witnesses who say and what is that even those who still hysterical how to move thursday january seven one half an hour and a stevens you fair trial came close to it yeah i've a back room that have seen that it was the air that certainly not less costly used to at as i used to be now with the grass and i need to pay the bills in the people and mrs thatcher and sinn fein and some standards for whenever a half mine now might go for my future compare that with has proved to our thanks to this is going to teach you a chance in this valley and i think you can see family it is he use allen had to go and he and his head to court and fuhrman dallas moonlight adding up above flood once in college teaching a scintilla of a hundred hours being made to the stand ready for the alley to find out what to do it alison when educational school learning and indications contains a teach in handcuffs that free to let pray that movie like you don't need to think they have with these talented an refused him there when i'm thirty years smokers and to a i wouldn't want to know if they're given that decent ivy is a time when i go into detail because it gave the fact that genius that view the advanced stage mean there because you have to be like t. the need evil in the wood people's into the person turns into and chance for an kings the east and he said after the case then he actually is an nations can we find something can be doing next sandy laments\n"
     ]
    }
   ],
   "source": [
    "AUDIO_FILE = \"test.wav\"\n",
    "# use the audio file as the audio source\n",
    "r = sr.Recognizer()\n",
    "with sr.AudioFile(AUDIO_FILE) as source:\n",
    "    audio = r.record(source)  # read the entire audio file\n",
    "    \n",
    "try:\n",
    "    print(\"Sphinx thinks you said \" + r.recognize_sphinx(audio))\n",
    "except sr.UnknownValueError:\n",
    "    print(\"Sphinx could not understand audio\")\n",
    "except sr.RequestError as e:\n",
    "    print(\"Sphinx error; {0}\".format(e))"
   ]
  },
  {
   "cell_type": "markdown",
   "metadata": {},
   "source": [
    "#### Now the breaking up of the file is started "
   ]
  },
  {
   "cell_type": "code",
   "execution_count": 3,
   "metadata": {},
   "outputs": [
    {
     "name": "stdout",
     "output_type": "stream",
     "text": [
      "0 Done\n",
      "1 Done\n",
      "2 Done\n",
      "All splited successfully\n"
     ]
    }
   ],
   "source": [
    "class SplitWavAudioMubin():\n",
    "    def __init__(self, folder, filename):\n",
    "        self.folder = folder\n",
    "        self.filename = filename\n",
    "        self.filepath = folder + '\\\\' + filename\n",
    "        \n",
    "        self.audio = AudioSegment.from_wav(self.filepath)\n",
    "    \n",
    "    def get_duration(self):\n",
    "        return self.audio.duration_seconds\n",
    "    \n",
    "    def single_split(self, from_min, to_min, split_filename):\n",
    "        t1 = from_min * 60 * 1000\n",
    "        t2 = to_min * 60 * 1000\n",
    "        split_audio = self.audio[t1:t2]\n",
    "        split_audio.export(self.folder + '\\\\' + split_filename, format=\"wav\")\n",
    "        \n",
    "    def multiple_split(self, min_per_split):\n",
    "        total_mins = math.ceil(self.get_duration() / 60)\n",
    "        for i in range(0, total_mins, min_per_split):\n",
    "            split_fn = str(i) + '_' + self.filename\n",
    "            self.single_split(i, i+min_per_split, split_fn)\n",
    "            print(str(i) + ' Done')\n",
    "            if i == total_mins - min_per_split:\n",
    "                print('All splited successfully')\n",
    "    \n",
    "folder = 'D:\\\\Internships\\\\aigora\\\\jupyter notebooks\\\\audio_chunks'\n",
    "file = 'test.wav'\n",
    "split_wav = SplitWavAudioMubin(folder, file)\n",
    "split_wav.multiple_split(min_per_split=1)"
   ]
  },
  {
   "cell_type": "code",
   "execution_count": 4,
   "metadata": {},
   "outputs": [],
   "source": [
    "audio_list = glob.glob(folder+'\\\\*.wav')\n",
    "transcribed_text = \"\"\n",
    "for audioi in range(len(audio_list)-1):\n",
    "    r = sr.Recognizer()\n",
    "    with sr.AudioFile(audio_list[audioi]) as source:\n",
    "        audio = r.record(source)\n",
    "    try:\n",
    "        transcribed_text +=  r.recognize_sphinx(audio) + \" \"\n",
    "    except sr.UnknownValueError:\n",
    "        print(\"Sphinx could not understand audio\")\n",
    "    except sr.RequestError as e:\n",
    "        print(\"Sphinx error; {0}\".format(e))"
   ]
  },
  {
   "cell_type": "code",
   "execution_count": 7,
   "metadata": {},
   "outputs": [
    {
     "name": "stdout",
     "output_type": "stream",
     "text": [
      "Transcribed text : we're used to the goal of you for being had been know who is the stain on the passage of nafta is an area that's been given how we can only hear is when terrorists are imagine didn't used to those because this food aid and we have is that even those who still hysterical and with thursday january seven one after the hurricane eve of view they're broken hasten to add and a panic room that have seen that he was the air that certainly not less costly and if not i used to be now with the grasses and meet a magazine the people and mrs thatcher and sinn fein and some standards for whenever a half mine now michael for my future of the men women has proved that our rules that some of this is going to teach you a chance in this valley and nothing you can see family it's been three years allen had to go again and have his hands in an one hundred alice's room what's happening did her for what's the current teaching a scintilla of a hundred hours being made to the stand ready for the alley to find out what to do it alison when education school at noon and consumer patients have aged eighteen to hand fund retail it has a bad movie like you don't need to ve day and the slums of talented at the theater there when i'm thirty years smokers and who wouldn't want that if they're given that the firm to ivy is the time that we have a go into detail because it gave the stuff in cincinnati in the area that's especially in the air because you have to be like t. the decent people in love with people from the advance the cause of reason for new distress from the latin kings the evidence they set out for the case then he actually is an the huge time and we find something can be doing next sandy laments , \n",
      "\n",
      "\n",
      "Average words per minute : 702\n"
     ]
    }
   ],
   "source": [
    "length = len(list(transcribed_text))\n",
    "\n",
    "fname = folder + '//' +file\n",
    "with contextlib.closing(wave.open(fname,'r')) as f:\n",
    "    frames = f.getnframes()\n",
    "    rate = f.getframerate()\n",
    "    duration = frames /float(rate)\n",
    "    \n",
    "\n",
    "audio_words_per_minute = int((length/duration)*60)\n",
    "print('Transcribed text : {}, \\n\\n\\nAverage words per minute : {}'.format(transcribed_text, audio_words_per_minute))"
   ]
  },
  {
   "cell_type": "code",
   "execution_count": 9,
   "metadata": {},
   "outputs": [],
   "source": [
    "import os\n",
    "for i in range(len(audio_list)-1):\n",
    "    os.remove(audio_list[i])"
   ]
  },
  {
   "cell_type": "code",
   "execution_count": null,
   "metadata": {},
   "outputs": [],
   "source": []
  }
 ],
 "metadata": {
  "kernelspec": {
   "display_name": "Python 3",
   "language": "python",
   "name": "python3"
  },
  "language_info": {
   "codemirror_mode": {
    "name": "ipython",
    "version": 3
   },
   "file_extension": ".py",
   "mimetype": "text/x-python",
   "name": "python",
   "nbconvert_exporter": "python",
   "pygments_lexer": "ipython3",
   "version": "3.8.3"
  }
 },
 "nbformat": 4,
 "nbformat_minor": 4
}
