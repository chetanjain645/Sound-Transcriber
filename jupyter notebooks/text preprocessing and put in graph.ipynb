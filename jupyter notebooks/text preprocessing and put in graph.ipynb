{
 "cells": [
  {
   "cell_type": "markdown",
   "metadata": {},
   "source": [
    "#### We can increase the efficiency by taking the filler set more effective.\n",
    "I have just described the process that how can we do that"
   ]
  },
  {
   "cell_type": "code",
   "execution_count": 1,
   "metadata": {},
   "outputs": [
    {
     "data": {
      "text/plain": [
       "'we re here and go of fear that it you didn t know who is the stain on the passages that snails that carry that s the hour winds are we needed here is when terrorists are for him i didn t used to those witnesses who say and what is that even those who still hysterical how to move thursday january seven one half an hour and a stevens you fair trial came close to it yeah i ve a back room that have seen that it was the air that certainly not less costly used to at as i used to be now with the grass and i need to pay the bills in the people and mrs thatcher and sinn fein and some standards for whenever a half mine now might go for my future compare that with has proved to our thanks to this is going to teach you a chance in this valley and i think you can see family it is he use allen had to go and he and his head to court and fuhrman dallas moonlight adding up above flood once in college teaching a scintilla of a hundred hours being made to the stand ready for the alley to find out what to do it alison when educational school learning and indications contains a teach in handcuffs that free to let pray that movie like you don t need to think they have with these talented an refused him there when i m thirty years smokers and to a i wouldn t want to know if they re given that decent ivy is a time when i go into detail because it gave the fact that genius that view the advanced stage mean there because you have to be like t the need evil in the wood people s into the person turns into and chance for an kings the east and he said after the case then he actually is an nations can we find something can be doing next sandy laments'"
      ]
     },
     "execution_count": 1,
     "metadata": {},
     "output_type": "execute_result"
    }
   ],
   "source": [
    "import re\n",
    "text = \"we're here and go of fear that it you didn't know who is the stain on the passages that snails that carry that's the hour winds are we needed here is when terrorists are for him i didn't used to those witnesses who say and what is that even those who still hysterical how to move thursday january seven one half an hour and a stevens you fair trial came close to it yeah i've a back room that have seen that it was the air that certainly not less costly used to at as i used to be now with the grass and i need to pay the bills in the people and mrs thatcher and sinn fein and some standards for whenever a half mine now might go for my future compare that with has proved to our thanks to this is going to teach you a chance in this valley and i think you can see family it is he use allen had to go and he and his head to court and fuhrman dallas moonlight adding up above flood once in college teaching a scintilla of a hundred hours being made to the stand ready for the alley to find out what to do it alison when educational school learning and indications contains a teach in handcuffs that free to let pray that movie like you don't need to think they have with these talented an refused him there when i'm thirty years smokers and to a i wouldn't want to know if they're given that decent ivy is a time when i go into detail because it gave the fact that genius that view the advanced stage mean there because you have to be like t. the need evil in the wood people's into the person turns into and chance for an kings the east and he said after the case then he actually is an nations can we find something can be doing next sandy laments\"\n",
    "text = re.sub('[^A-Za-z0-9]+', ' ', text)\n",
    "text.lower()"
   ]
  },
  {
   "cell_type": "code",
   "execution_count": 2,
   "metadata": {},
   "outputs": [],
   "source": [
    "text = set(text.split())\n",
    "filler_word = {'well', 'um', 'er', 'uh', 'hmm', 'like', 'actually', 'basically', 'seriously', 'see', 'mean', 'believe', 'guess', 'umm','mhm', 'so'}\n",
    "concat_words = text.intersection(filler_word)\n",
    "f_text = \"\"\n",
    "for i in concat_words:\n",
    "    f_text += i\n",
    "    f_text += \" \""
   ]
  },
  {
   "cell_type": "code",
   "execution_count": 3,
   "metadata": {},
   "outputs": [
    {
     "data": {
      "image/png": "[encoded data removed]",
      "text/plain": [
       "<Figure size 432x288 with 1 Axes>"
      ]
     },
     "metadata": {
      "needs_background": "light"
     },
     "output_type": "display_data"
    }
   ],
   "source": [
    "from wordcloud import WordCloud\n",
    "wordcloud = WordCloud().generate(f_text)\n",
    "\n",
    "# Display the generated image:\n",
    "# the matplotlib way:\n",
    "import matplotlib.pyplot as plt\n",
    "\n",
    "\n",
    "# take relative word frequencies into account, lower max_font_size\n",
    "wordcloud = WordCloud(background_color=\"white\",max_words=len(f_text)+10,max_font_size=40, relative_scaling=.5).generate(f_text)\n",
    "plt.figure()\n",
    "plt.imshow(wordcloud)\n",
    "plt.axis(\"off\")\n",
    "plt.show()"
   ]
  },
  {
   "cell_type": "code",
   "execution_count": null,
   "metadata": {},
   "outputs": [],
   "source": []
  }
 ],
 "metadata": {
  "kernelspec": {
   "display_name": "Python 3",
   "language": "python",
   "name": "python3"
  },
  "language_info": {
   "codemirror_mode": {
    "name": "ipython",
    "version": 3
   },
   "file_extension": ".py",
   "mimetype": "text/x-python",
   "name": "python",
   "nbconvert_exporter": "python",
   "pygments_lexer": "ipython3",
   "version": "3.8.3"
  }
 },
 "nbformat": 4,
 "nbformat_minor": 4
}
